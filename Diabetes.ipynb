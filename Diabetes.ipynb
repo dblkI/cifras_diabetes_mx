{
  "nbformat": 4,
  "nbformat_minor": 0,
  "metadata": {
    "colab": {
      "provenance": [],
      "authorship_tag": "ABX9TyOOQ9gm+lU3Kr18xlvkFU7N",
      "include_colab_link": true
    },
    "kernelspec": {
      "name": "python3",
      "display_name": "Python 3"
    },
    "language_info": {
      "name": "python"
    }
  },
  "cells": [
    {
      "cell_type": "markdown",
      "metadata": {
        "id": "view-in-github",
        "colab_type": "text"
      },
      "source": [
        "<a href=\"https://colab.research.google.com/github/dblkI/cifras_diabetes_mx/blob/main/Diabetes.ipynb\" target=\"_parent\"><img src=\"https://colab.research.google.com/assets/colab-badge.svg\" alt=\"Open In Colab\"/></a>"
      ]
    },
    {
      "cell_type": "markdown",
      "source": [
        "# Datos sobre la Diabetes en México\n"
      ],
      "metadata": {
        "id": "UlD1pCSERHsQ"
      }
    },
    {
      "cell_type": "markdown",
      "source": [
        "### Librerias"
      ],
      "metadata": {
        "id": "qIs4G3T05xAJ"
      }
    },
    {
      "cell_type": "code",
      "source": [
        "import pandas as pd\n",
        "import matplotlib.pyplot as plt\n",
        "import seaborn as sns"
      ],
      "metadata": {
        "id": "qekM8F9MTEds"
      },
      "execution_count": 329,
      "outputs": []
    },
    {
      "cell_type": "markdown",
      "source": [
        "### Importación de la data"
      ],
      "metadata": {
        "id": "EamTPHS_RZEe"
      }
    },
    {
      "cell_type": "code",
      "source": [
        "from google.colab import drive\n",
        "drive.mount('/content/drive')\n",
        "ruta1 = '/content/drive/MyDrive/Work/diabetes_mexico/data/diabetes.csv'\n",
        "ruta2 = '/content/drive/MyDrive/Work/diabetes_mexico/data/def_totales.csv'\n",
        "data = pd.read_csv(ruta1)\n",
        "def_totales = pd.read_csv(ruta2)"
      ],
      "metadata": {
        "colab": {
          "base_uri": "https://localhost:8080/"
        },
        "id": "9lnFmM4V1hjS",
        "outputId": "c8242b82-b337-4915-a56a-5b6321741b54"
      },
      "execution_count": 330,
      "outputs": [
        {
          "output_type": "stream",
          "name": "stdout",
          "text": [
            "Drive already mounted at /content/drive; to attempt to forcibly remount, call drive.mount(\"/content/drive\", force_remount=True).\n"
          ]
        }
      ]
    },
    {
      "cell_type": "code",
      "source": [
        "print(data.shape)\n",
        "data.head()"
      ],
      "metadata": {
        "colab": {
          "base_uri": "https://localhost:8080/",
          "height": 224
        },
        "id": "i3uR3yla41Wj",
        "outputId": "5d47961b-f1ab-4295-a8d8-b537e848e60c"
      },
      "execution_count": 331,
      "outputs": [
        {
          "output_type": "stream",
          "name": "stdout",
          "text": [
            "(15504, 6)\n"
          ]
        },
        {
          "output_type": "execute_result",
          "data": {
            "text/plain": [
              "           Estado         Enfermedad Rango de edad   Año    Sexo  \\\n",
              "0  Aguascalientes  Diabetes Mellitus    0 a 4 años  2010  Hombre   \n",
              "1  Aguascalientes  Diabetes Mellitus    5 a 9 años  2010  Hombre   \n",
              "2  Aguascalientes  Diabetes Mellitus  10 a 14 años  2010  Hombre   \n",
              "3  Aguascalientes  Diabetes Mellitus  15 a 19 años  2010  Hombre   \n",
              "4  Aguascalientes  Diabetes Mellitus  20 a 24 años  2010  Hombre   \n",
              "\n",
              "  Numero de defunciones  \n",
              "0                     0  \n",
              "1                     0  \n",
              "2                     0  \n",
              "3                     0  \n",
              "4                     0  "
            ],
            "text/html": [
              "\n",
              "  <div id=\"df-27d11123-1036-48cf-b5fa-63ad5b65e2a7\">\n",
              "    <div class=\"colab-df-container\">\n",
              "      <div>\n",
              "<style scoped>\n",
              "    .dataframe tbody tr th:only-of-type {\n",
              "        vertical-align: middle;\n",
              "    }\n",
              "\n",
              "    .dataframe tbody tr th {\n",
              "        vertical-align: top;\n",
              "    }\n",
              "\n",
              "    .dataframe thead th {\n",
              "        text-align: right;\n",
              "    }\n",
              "</style>\n",
              "<table border=\"1\" class=\"dataframe\">\n",
              "  <thead>\n",
              "    <tr style=\"text-align: right;\">\n",
              "      <th></th>\n",
              "      <th>Estado</th>\n",
              "      <th>Enfermedad</th>\n",
              "      <th>Rango de edad</th>\n",
              "      <th>Año</th>\n",
              "      <th>Sexo</th>\n",
              "      <th>Numero de defunciones</th>\n",
              "    </tr>\n",
              "  </thead>\n",
              "  <tbody>\n",
              "    <tr>\n",
              "      <th>0</th>\n",
              "      <td>Aguascalientes</td>\n",
              "      <td>Diabetes Mellitus</td>\n",
              "      <td>0 a 4 años</td>\n",
              "      <td>2010</td>\n",
              "      <td>Hombre</td>\n",
              "      <td>0</td>\n",
              "    </tr>\n",
              "    <tr>\n",
              "      <th>1</th>\n",
              "      <td>Aguascalientes</td>\n",
              "      <td>Diabetes Mellitus</td>\n",
              "      <td>5 a 9 años</td>\n",
              "      <td>2010</td>\n",
              "      <td>Hombre</td>\n",
              "      <td>0</td>\n",
              "    </tr>\n",
              "    <tr>\n",
              "      <th>2</th>\n",
              "      <td>Aguascalientes</td>\n",
              "      <td>Diabetes Mellitus</td>\n",
              "      <td>10 a 14 años</td>\n",
              "      <td>2010</td>\n",
              "      <td>Hombre</td>\n",
              "      <td>0</td>\n",
              "    </tr>\n",
              "    <tr>\n",
              "      <th>3</th>\n",
              "      <td>Aguascalientes</td>\n",
              "      <td>Diabetes Mellitus</td>\n",
              "      <td>15 a 19 años</td>\n",
              "      <td>2010</td>\n",
              "      <td>Hombre</td>\n",
              "      <td>0</td>\n",
              "    </tr>\n",
              "    <tr>\n",
              "      <th>4</th>\n",
              "      <td>Aguascalientes</td>\n",
              "      <td>Diabetes Mellitus</td>\n",
              "      <td>20 a 24 años</td>\n",
              "      <td>2010</td>\n",
              "      <td>Hombre</td>\n",
              "      <td>0</td>\n",
              "    </tr>\n",
              "  </tbody>\n",
              "</table>\n",
              "</div>\n",
              "      <button class=\"colab-df-convert\" onclick=\"convertToInteractive('df-27d11123-1036-48cf-b5fa-63ad5b65e2a7')\"\n",
              "              title=\"Convert this dataframe to an interactive table.\"\n",
              "              style=\"display:none;\">\n",
              "        \n",
              "  <svg xmlns=\"http://www.w3.org/2000/svg\" height=\"24px\"viewBox=\"0 0 24 24\"\n",
              "       width=\"24px\">\n",
              "    <path d=\"M0 0h24v24H0V0z\" fill=\"none\"/>\n",
              "    <path d=\"M18.56 5.44l.94 2.06.94-2.06 2.06-.94-2.06-.94-.94-2.06-.94 2.06-2.06.94zm-11 1L8.5 8.5l.94-2.06 2.06-.94-2.06-.94L8.5 2.5l-.94 2.06-2.06.94zm10 10l.94 2.06.94-2.06 2.06-.94-2.06-.94-.94-2.06-.94 2.06-2.06.94z\"/><path d=\"M17.41 7.96l-1.37-1.37c-.4-.4-.92-.59-1.43-.59-.52 0-1.04.2-1.43.59L10.3 9.45l-7.72 7.72c-.78.78-.78 2.05 0 2.83L4 21.41c.39.39.9.59 1.41.59.51 0 1.02-.2 1.41-.59l7.78-7.78 2.81-2.81c.8-.78.8-2.07 0-2.86zM5.41 20L4 18.59l7.72-7.72 1.47 1.35L5.41 20z\"/>\n",
              "  </svg>\n",
              "      </button>\n",
              "      \n",
              "  <style>\n",
              "    .colab-df-container {\n",
              "      display:flex;\n",
              "      flex-wrap:wrap;\n",
              "      gap: 12px;\n",
              "    }\n",
              "\n",
              "    .colab-df-convert {\n",
              "      background-color: #E8F0FE;\n",
              "      border: none;\n",
              "      border-radius: 50%;\n",
              "      cursor: pointer;\n",
              "      display: none;\n",
              "      fill: #1967D2;\n",
              "      height: 32px;\n",
              "      padding: 0 0 0 0;\n",
              "      width: 32px;\n",
              "    }\n",
              "\n",
              "    .colab-df-convert:hover {\n",
              "      background-color: #E2EBFA;\n",
              "      box-shadow: 0px 1px 2px rgba(60, 64, 67, 0.3), 0px 1px 3px 1px rgba(60, 64, 67, 0.15);\n",
              "      fill: #174EA6;\n",
              "    }\n",
              "\n",
              "    [theme=dark] .colab-df-convert {\n",
              "      background-color: #3B4455;\n",
              "      fill: #D2E3FC;\n",
              "    }\n",
              "\n",
              "    [theme=dark] .colab-df-convert:hover {\n",
              "      background-color: #434B5C;\n",
              "      box-shadow: 0px 1px 3px 1px rgba(0, 0, 0, 0.15);\n",
              "      filter: drop-shadow(0px 1px 2px rgba(0, 0, 0, 0.3));\n",
              "      fill: #FFFFFF;\n",
              "    }\n",
              "  </style>\n",
              "\n",
              "      <script>\n",
              "        const buttonEl =\n",
              "          document.querySelector('#df-27d11123-1036-48cf-b5fa-63ad5b65e2a7 button.colab-df-convert');\n",
              "        buttonEl.style.display =\n",
              "          google.colab.kernel.accessAllowed ? 'block' : 'none';\n",
              "\n",
              "        async function convertToInteractive(key) {\n",
              "          const element = document.querySelector('#df-27d11123-1036-48cf-b5fa-63ad5b65e2a7');\n",
              "          const dataTable =\n",
              "            await google.colab.kernel.invokeFunction('convertToInteractive',\n",
              "                                                     [key], {});\n",
              "          if (!dataTable) return;\n",
              "\n",
              "          const docLinkHtml = 'Like what you see? Visit the ' +\n",
              "            '<a target=\"_blank\" href=https://colab.research.google.com/notebooks/data_table.ipynb>data table notebook</a>'\n",
              "            + ' to learn more about interactive tables.';\n",
              "          element.innerHTML = '';\n",
              "          dataTable['output_type'] = 'display_data';\n",
              "          await google.colab.output.renderOutput(dataTable, element);\n",
              "          const docLink = document.createElement('div');\n",
              "          docLink.innerHTML = docLinkHtml;\n",
              "          element.appendChild(docLink);\n",
              "        }\n",
              "      </script>\n",
              "    </div>\n",
              "  </div>\n",
              "  "
            ]
          },
          "metadata": {},
          "execution_count": 331
        }
      ]
    },
    {
      "cell_type": "markdown",
      "source": [
        "## Limpieza de datos"
      ],
      "metadata": {
        "id": "IFtjLlfOOVSs"
      }
    },
    {
      "cell_type": "markdown",
      "source": [
        "### Limpieza de data principal"
      ],
      "metadata": {
        "id": "o5YF6PmF2FIQ"
      }
    },
    {
      "cell_type": "code",
      "source": [
        "data.info()"
      ],
      "metadata": {
        "colab": {
          "base_uri": "https://localhost:8080/"
        },
        "id": "yFrQH7Pg5OkI",
        "outputId": "58c0bac6-4c58-4ad2-df49-6d1ec4a448d8"
      },
      "execution_count": 332,
      "outputs": [
        {
          "output_type": "stream",
          "name": "stdout",
          "text": [
            "<class 'pandas.core.frame.DataFrame'>\n",
            "RangeIndex: 15504 entries, 0 to 15503\n",
            "Data columns (total 6 columns):\n",
            " #   Column                 Non-Null Count  Dtype \n",
            "---  ------                 --------------  ----- \n",
            " 0   Estado                 15504 non-null  object\n",
            " 1   Enfermedad             15504 non-null  object\n",
            " 2   Rango de edad          15504 non-null  object\n",
            " 3   Año                    15504 non-null  int64 \n",
            " 4   Sexo                   15504 non-null  object\n",
            " 5   Numero de defunciones  15504 non-null  object\n",
            "dtypes: int64(1), object(5)\n",
            "memory usage: 726.9+ KB\n"
          ]
        }
      ]
    },
    {
      "cell_type": "markdown",
      "source": [
        "Observaciones.\n",
        "\n",
        "*   De la información obtenida de la data podemos ver que no tenemos celdas vacías, en todas las columnas tenemos 15504 valores.\n",
        "*   La columna 'Numero de defunciones' está marcarda como 'object' porque contiene datos que representan los millaras con comas (,) por lo que esto también se debe corregir.\n"
      ],
      "metadata": {
        "id": "IKKQ7I5K6MK_"
      }
    },
    {
      "cell_type": "code",
      "source": [
        "data.dropna(inplace = True)\n",
        "data.dropna(subset=['Numero de defunciones'])\n",
        "data['Numero de defunciones'] = data['Numero de defunciones'].str.replace(',', '')\n",
        "data['Numero de defunciones'] = data['Numero de defunciones'].astype('int64')\n",
        "data.info()"
      ],
      "metadata": {
        "colab": {
          "base_uri": "https://localhost:8080/"
        },
        "id": "0UYR0Yz66ZOE",
        "outputId": "e0ffa065-4bed-404b-bfca-85beddd6750f"
      },
      "execution_count": 333,
      "outputs": [
        {
          "output_type": "stream",
          "name": "stdout",
          "text": [
            "<class 'pandas.core.frame.DataFrame'>\n",
            "RangeIndex: 15504 entries, 0 to 15503\n",
            "Data columns (total 6 columns):\n",
            " #   Column                 Non-Null Count  Dtype \n",
            "---  ------                 --------------  ----- \n",
            " 0   Estado                 15504 non-null  object\n",
            " 1   Enfermedad             15504 non-null  object\n",
            " 2   Rango de edad          15504 non-null  object\n",
            " 3   Año                    15504 non-null  int64 \n",
            " 4   Sexo                   15504 non-null  object\n",
            " 5   Numero de defunciones  15504 non-null  int64 \n",
            "dtypes: int64(2), object(4)\n",
            "memory usage: 726.9+ KB\n"
          ]
        }
      ]
    },
    {
      "cell_type": "code",
      "source": [
        "cols_cat = ['Estado', 'Rango de edad', 'Sexo']\n",
        "cols_num = ['Año', 'Numero de defunciones']\n",
        "\n",
        "for col in cols_cat:\n",
        "  print(f'Columna {col}:{data[col].nunique()} subniveles')"
      ],
      "metadata": {
        "colab": {
          "base_uri": "https://localhost:8080/"
        },
        "id": "Kh1VQCSo7loS",
        "outputId": "3326e0f9-0fa1-4870-dd38-c0765877cb9d"
      },
      "execution_count": 334,
      "outputs": [
        {
          "output_type": "stream",
          "name": "stdout",
          "text": [
            "Columna Estado:34 subniveles\n",
            "Columna Rango de edad:19 subniveles\n",
            "Columna Sexo:2 subniveles\n"
          ]
        }
      ]
    },
    {
      "cell_type": "markdown",
      "source": [
        "Observaciones.\n",
        "\n",
        "\n",
        "*   La columna 'Enfermedad' muestra un sólo subnivel ya que sólo estamos revisando la Dataset de Diabetes, por lo que no encontramos información valiosa en ella.\n",
        "*   En la columna 'Estado' vemos 34 valores, sabemos que México sólo tiene 32 entidades federativas por lo que analizaremos estos rangos atípicos.\n",
        "\n"
      ],
      "metadata": {
        "id": "oPE4yZo98eGr"
      }
    },
    {
      "cell_type": "code",
      "source": [
        "# Eliminar columnas que sólo tengan un subnivel.\n",
        "# En este caso es la columna: 'Enfermedad'.\n",
        "coluni = data.columns[data.nunique() == 1]\n",
        "data = data.drop(coluni, axis = 1)\n",
        "\n",
        "# Debemos eliminar valores que no sean estados de la columna 'Estado' por lo\n",
        "# que vamos a comprobar los valores que existan en esta columna.\n",
        "print(data['Estado'].unique())\n",
        "\n",
        "# Los valores 'Extranjero' y 'No especificado' no aportan nada relevante para \n",
        "# nuestro análisis por lo que se determino que pueden removerse.\n",
        "# data['Estado'] = data['Estado'].str.replace('Extranjero','No especificado', regex = False)\n",
        "data = data.drop(data[data['Estado'] == 'Extranjero'].index)\n",
        "data = data.drop(data[data['Estado'] == 'No especificado'].index)\n",
        "\n",
        "# Comprobamos resultados finales.\n",
        "print(data['Estado'].unique())"
      ],
      "metadata": {
        "colab": {
          "base_uri": "https://localhost:8080/"
        },
        "id": "V0Y_s9WiJ27p",
        "outputId": "56763292-219c-41df-9f4e-92a58e02aee7"
      },
      "execution_count": 335,
      "outputs": [
        {
          "output_type": "stream",
          "name": "stdout",
          "text": [
            "['Aguascalientes' 'Baja California' 'Baja California Sur' 'Campeche'\n",
            " 'Coahuila de Zaragoza' 'Colima' 'Chiapas' 'Chihuahua' 'Ciudad de México'\n",
            " 'Durango' 'Guanajuato' 'Guerrero' 'Hidalgo' 'Jalisco' 'México'\n",
            " 'Michoacán de Ocampo' 'Morelos' 'Nayarit' 'Nuevo León' 'Oaxaca' 'Puebla'\n",
            " 'Querétaro' 'Quintana Roo' 'San Luis Potosí' 'Sinaloa' 'Sonora' 'Tabasco'\n",
            " 'Tamaulipas' 'Tlaxcala' 'Veracruz de Ignacio de la Llave' 'Yucatán'\n",
            " 'Zacatecas' 'Extranjero' 'No especificado']\n",
            "['Aguascalientes' 'Baja California' 'Baja California Sur' 'Campeche'\n",
            " 'Coahuila de Zaragoza' 'Colima' 'Chiapas' 'Chihuahua' 'Ciudad de México'\n",
            " 'Durango' 'Guanajuato' 'Guerrero' 'Hidalgo' 'Jalisco' 'México'\n",
            " 'Michoacán de Ocampo' 'Morelos' 'Nayarit' 'Nuevo León' 'Oaxaca' 'Puebla'\n",
            " 'Querétaro' 'Quintana Roo' 'San Luis Potosí' 'Sinaloa' 'Sonora' 'Tabasco'\n",
            " 'Tamaulipas' 'Tlaxcala' 'Veracruz de Ignacio de la Llave' 'Yucatán'\n",
            " 'Zacatecas']\n"
          ]
        }
      ]
    },
    {
      "cell_type": "code",
      "source": [
        "# Se cambiaron los siguientes nombres de estados.\n",
        "# Coahuila de Zaragoza -> Coahuila\n",
        "data['Estado'] = data['Estado'].str.replace('Coahuila de Zaragoza','Coahuila', regex = False)\n",
        "# México -> Estado de México\n",
        "# data['Estado'] = data['Estado'].str.replace('México','Estado de México', regex = False)\n",
        "# Michoacan de Ocampo -> Michoacan\n",
        "data['Estado'] = data['Estado'].str.replace('Michoacán de Ocampo','Michoácan', regex = False)\n",
        "# Veracruz de Ignacio de la Llave -> Veracruz\n",
        "data['Estado'] = data['Estado'].str.replace('Veracruz de Ignacio de la Llave','Veracruz', regex = False)\n",
        "\n",
        "print(data['Estado'].unique())"
      ],
      "metadata": {
        "colab": {
          "base_uri": "https://localhost:8080/"
        },
        "id": "0MxmG2tkYzCL",
        "outputId": "b6a7649d-ae9d-4b73-aa31-8f13ee278593"
      },
      "execution_count": 336,
      "outputs": [
        {
          "output_type": "stream",
          "name": "stdout",
          "text": [
            "['Aguascalientes' 'Baja California' 'Baja California Sur' 'Campeche'\n",
            " 'Coahuila' 'Colima' 'Chiapas' 'Chihuahua' 'Ciudad de México' 'Durango'\n",
            " 'Guanajuato' 'Guerrero' 'Hidalgo' 'Jalisco' 'México' 'Michoácan'\n",
            " 'Morelos' 'Nayarit' 'Nuevo León' 'Oaxaca' 'Puebla' 'Querétaro'\n",
            " 'Quintana Roo' 'San Luis Potosí' 'Sinaloa' 'Sonora' 'Tabasco'\n",
            " 'Tamaulipas' 'Tlaxcala' 'Veracruz' 'Yucatán' 'Zacatecas']\n"
          ]
        }
      ]
    },
    {
      "cell_type": "code",
      "source": [
        "print(data['Rango de edad'].unique())\n",
        "data = data.drop(data[data['Rango de edad'] == 'No especificado'].index)\n",
        "data['Rango de edad'] = data['Rango de edad'].str.split().str[0]\n",
        "data['Rango de edad'] = data['Rango de edad'].astype('int64')\n",
        "print(data['Rango de edad'].unique())"
      ],
      "metadata": {
        "colab": {
          "base_uri": "https://localhost:8080/"
        },
        "id": "3Qk-YBtIdxlF",
        "outputId": "be7cdb3d-81b7-4ffc-f9c9-c24abfb0c50b"
      },
      "execution_count": 337,
      "outputs": [
        {
          "output_type": "stream",
          "name": "stdout",
          "text": [
            "['0 a 4 años' '5 a 9 años' '10 a 14 años' '15 a 19 años' '20 a 24 años'\n",
            " '25 a 29 años' '30 a 34 años' '35 a 39 años' '40 a 44 años'\n",
            " '45 a 49 años' '50 a 54 años' '55 a 59 años' '60 a 64 años'\n",
            " '65 a 69 años' '70 a 74 años' '75 a 79 años' '80 a 84 años'\n",
            " '85 años y más' 'No especificado']\n",
            "[ 0  5 10 15 20 25 30 35 40 45 50 55 60 65 70 75 80 85]\n"
          ]
        }
      ]
    },
    {
      "cell_type": "markdown",
      "source": [
        "Una vez que hemos eliminado las columnas y filas que no contenían información util podemos eliminar las filas repetidas que existan."
      ],
      "metadata": {
        "id": "RqNBfTy8NjKP"
      }
    },
    {
      "cell_type": "code",
      "source": [
        "print(data.shape)\n",
        "data.drop_duplicates()\n",
        "print(data.shape)"
      ],
      "metadata": {
        "colab": {
          "base_uri": "https://localhost:8080/"
        },
        "id": "r15sKY4uCSFQ",
        "outputId": "f41ab827-db9d-4300-8c4a-d5f4e531bf4b"
      },
      "execution_count": 338,
      "outputs": [
        {
          "output_type": "stream",
          "name": "stdout",
          "text": [
            "(13824, 5)\n",
            "(13824, 5)\n"
          ]
        }
      ]
    },
    {
      "cell_type": "markdown",
      "source": [
        "Observaciones.\n",
        "\n",
        "\n",
        "*   No tenemos celdas con datos repetidos."
      ],
      "metadata": {
        "id": "KVXux0YUC40B"
      }
    },
    {
      "cell_type": "markdown",
      "source": [
        "Analizamos las columnas con información numérica para ver si en esta primera observación notamos algo inusual."
      ],
      "metadata": {
        "id": "2EMmkY0rO0lj"
      }
    },
    {
      "cell_type": "code",
      "source": [
        "data.describe()"
      ],
      "metadata": {
        "colab": {
          "base_uri": "https://localhost:8080/",
          "height": 300
        },
        "id": "ZcIkhme18aJQ",
        "outputId": "e11e78a1-3166-4da6-97c9-09769babfeca"
      },
      "execution_count": 339,
      "outputs": [
        {
          "output_type": "execute_result",
          "data": {
            "text/plain": [
              "       Rango de edad           Año  Numero de defunciones\n",
              "count   13824.000000  13824.000000           13824.000000\n",
              "mean       42.500000   2015.500000              89.468750\n",
              "std        25.941576      3.452177             160.215066\n",
              "min         0.000000   2010.000000               0.000000\n",
              "25%        20.000000   2012.750000               2.000000\n",
              "50%        42.500000   2015.500000              27.000000\n",
              "75%        65.000000   2018.250000             111.250000\n",
              "max        85.000000   2021.000000            2119.000000"
            ],
            "text/html": [
              "\n",
              "  <div id=\"df-43c25469-1ec0-4ef0-bc50-637df3f0ca87\">\n",
              "    <div class=\"colab-df-container\">\n",
              "      <div>\n",
              "<style scoped>\n",
              "    .dataframe tbody tr th:only-of-type {\n",
              "        vertical-align: middle;\n",
              "    }\n",
              "\n",
              "    .dataframe tbody tr th {\n",
              "        vertical-align: top;\n",
              "    }\n",
              "\n",
              "    .dataframe thead th {\n",
              "        text-align: right;\n",
              "    }\n",
              "</style>\n",
              "<table border=\"1\" class=\"dataframe\">\n",
              "  <thead>\n",
              "    <tr style=\"text-align: right;\">\n",
              "      <th></th>\n",
              "      <th>Rango de edad</th>\n",
              "      <th>Año</th>\n",
              "      <th>Numero de defunciones</th>\n",
              "    </tr>\n",
              "  </thead>\n",
              "  <tbody>\n",
              "    <tr>\n",
              "      <th>count</th>\n",
              "      <td>13824.000000</td>\n",
              "      <td>13824.000000</td>\n",
              "      <td>13824.000000</td>\n",
              "    </tr>\n",
              "    <tr>\n",
              "      <th>mean</th>\n",
              "      <td>42.500000</td>\n",
              "      <td>2015.500000</td>\n",
              "      <td>89.468750</td>\n",
              "    </tr>\n",
              "    <tr>\n",
              "      <th>std</th>\n",
              "      <td>25.941576</td>\n",
              "      <td>3.452177</td>\n",
              "      <td>160.215066</td>\n",
              "    </tr>\n",
              "    <tr>\n",
              "      <th>min</th>\n",
              "      <td>0.000000</td>\n",
              "      <td>2010.000000</td>\n",
              "      <td>0.000000</td>\n",
              "    </tr>\n",
              "    <tr>\n",
              "      <th>25%</th>\n",
              "      <td>20.000000</td>\n",
              "      <td>2012.750000</td>\n",
              "      <td>2.000000</td>\n",
              "    </tr>\n",
              "    <tr>\n",
              "      <th>50%</th>\n",
              "      <td>42.500000</td>\n",
              "      <td>2015.500000</td>\n",
              "      <td>27.000000</td>\n",
              "    </tr>\n",
              "    <tr>\n",
              "      <th>75%</th>\n",
              "      <td>65.000000</td>\n",
              "      <td>2018.250000</td>\n",
              "      <td>111.250000</td>\n",
              "    </tr>\n",
              "    <tr>\n",
              "      <th>max</th>\n",
              "      <td>85.000000</td>\n",
              "      <td>2021.000000</td>\n",
              "      <td>2119.000000</td>\n",
              "    </tr>\n",
              "  </tbody>\n",
              "</table>\n",
              "</div>\n",
              "      <button class=\"colab-df-convert\" onclick=\"convertToInteractive('df-43c25469-1ec0-4ef0-bc50-637df3f0ca87')\"\n",
              "              title=\"Convert this dataframe to an interactive table.\"\n",
              "              style=\"display:none;\">\n",
              "        \n",
              "  <svg xmlns=\"http://www.w3.org/2000/svg\" height=\"24px\"viewBox=\"0 0 24 24\"\n",
              "       width=\"24px\">\n",
              "    <path d=\"M0 0h24v24H0V0z\" fill=\"none\"/>\n",
              "    <path d=\"M18.56 5.44l.94 2.06.94-2.06 2.06-.94-2.06-.94-.94-2.06-.94 2.06-2.06.94zm-11 1L8.5 8.5l.94-2.06 2.06-.94-2.06-.94L8.5 2.5l-.94 2.06-2.06.94zm10 10l.94 2.06.94-2.06 2.06-.94-2.06-.94-.94-2.06-.94 2.06-2.06.94z\"/><path d=\"M17.41 7.96l-1.37-1.37c-.4-.4-.92-.59-1.43-.59-.52 0-1.04.2-1.43.59L10.3 9.45l-7.72 7.72c-.78.78-.78 2.05 0 2.83L4 21.41c.39.39.9.59 1.41.59.51 0 1.02-.2 1.41-.59l7.78-7.78 2.81-2.81c.8-.78.8-2.07 0-2.86zM5.41 20L4 18.59l7.72-7.72 1.47 1.35L5.41 20z\"/>\n",
              "  </svg>\n",
              "      </button>\n",
              "      \n",
              "  <style>\n",
              "    .colab-df-container {\n",
              "      display:flex;\n",
              "      flex-wrap:wrap;\n",
              "      gap: 12px;\n",
              "    }\n",
              "\n",
              "    .colab-df-convert {\n",
              "      background-color: #E8F0FE;\n",
              "      border: none;\n",
              "      border-radius: 50%;\n",
              "      cursor: pointer;\n",
              "      display: none;\n",
              "      fill: #1967D2;\n",
              "      height: 32px;\n",
              "      padding: 0 0 0 0;\n",
              "      width: 32px;\n",
              "    }\n",
              "\n",
              "    .colab-df-convert:hover {\n",
              "      background-color: #E2EBFA;\n",
              "      box-shadow: 0px 1px 2px rgba(60, 64, 67, 0.3), 0px 1px 3px 1px rgba(60, 64, 67, 0.15);\n",
              "      fill: #174EA6;\n",
              "    }\n",
              "\n",
              "    [theme=dark] .colab-df-convert {\n",
              "      background-color: #3B4455;\n",
              "      fill: #D2E3FC;\n",
              "    }\n",
              "\n",
              "    [theme=dark] .colab-df-convert:hover {\n",
              "      background-color: #434B5C;\n",
              "      box-shadow: 0px 1px 3px 1px rgba(0, 0, 0, 0.15);\n",
              "      filter: drop-shadow(0px 1px 2px rgba(0, 0, 0, 0.3));\n",
              "      fill: #FFFFFF;\n",
              "    }\n",
              "  </style>\n",
              "\n",
              "      <script>\n",
              "        const buttonEl =\n",
              "          document.querySelector('#df-43c25469-1ec0-4ef0-bc50-637df3f0ca87 button.colab-df-convert');\n",
              "        buttonEl.style.display =\n",
              "          google.colab.kernel.accessAllowed ? 'block' : 'none';\n",
              "\n",
              "        async function convertToInteractive(key) {\n",
              "          const element = document.querySelector('#df-43c25469-1ec0-4ef0-bc50-637df3f0ca87');\n",
              "          const dataTable =\n",
              "            await google.colab.kernel.invokeFunction('convertToInteractive',\n",
              "                                                     [key], {});\n",
              "          if (!dataTable) return;\n",
              "\n",
              "          const docLinkHtml = 'Like what you see? Visit the ' +\n",
              "            '<a target=\"_blank\" href=https://colab.research.google.com/notebooks/data_table.ipynb>data table notebook</a>'\n",
              "            + ' to learn more about interactive tables.';\n",
              "          element.innerHTML = '';\n",
              "          dataTable['output_type'] = 'display_data';\n",
              "          await google.colab.output.renderOutput(dataTable, element);\n",
              "          const docLink = document.createElement('div');\n",
              "          docLink.innerHTML = docLinkHtml;\n",
              "          element.appendChild(docLink);\n",
              "        }\n",
              "      </script>\n",
              "    </div>\n",
              "  </div>\n",
              "  "
            ]
          },
          "metadata": {},
          "execution_count": 339
        }
      ]
    },
    {
      "cell_type": "code",
      "source": [
        "data.info()"
      ],
      "metadata": {
        "colab": {
          "base_uri": "https://localhost:8080/"
        },
        "id": "oh39--dvC_10",
        "outputId": "4d57f541-ed18-43b4-bda6-66de3fc3f853"
      },
      "execution_count": 340,
      "outputs": [
        {
          "output_type": "stream",
          "name": "stdout",
          "text": [
            "<class 'pandas.core.frame.DataFrame'>\n",
            "Int64Index: 13824 entries, 0 to 14590\n",
            "Data columns (total 5 columns):\n",
            " #   Column                 Non-Null Count  Dtype \n",
            "---  ------                 --------------  ----- \n",
            " 0   Estado                 13824 non-null  object\n",
            " 1   Rango de edad          13824 non-null  int64 \n",
            " 2   Año                    13824 non-null  int64 \n",
            " 3   Sexo                   13824 non-null  object\n",
            " 4   Numero de defunciones  13824 non-null  int64 \n",
            "dtypes: int64(3), object(2)\n",
            "memory usage: 648.0+ KB\n"
          ]
        }
      ]
    },
    {
      "cell_type": "markdown",
      "source": [
        "Exportación en caso de ser requerida para vizualización."
      ],
      "metadata": {
        "id": "8MqD8YUs5dGl"
      }
    },
    {
      "cell_type": "code",
      "source": [
        "ruta = '/content/drive/MyDrive/Work/diabetes_mexico/data/diabetes_clean.csv'\n",
        "data.to_csv(ruta)"
      ],
      "metadata": {
        "id": "9UNO5lxCb5IT"
      },
      "execution_count": 341,
      "outputs": []
    },
    {
      "cell_type": "markdown",
      "source": [
        "### Limpieza de data def_totales"
      ],
      "metadata": {
        "id": "MGn-B9fU2RDb"
      }
    },
    {
      "cell_type": "code",
      "source": [
        "del cols_cat\n",
        "del cols_num\n",
        "def_totales.info()"
      ],
      "metadata": {
        "colab": {
          "base_uri": "https://localhost:8080/"
        },
        "id": "GUpiXBKZ2V_9",
        "outputId": "76ce3377-8bf8-45b8-d0d5-83974889aa8a"
      },
      "execution_count": 342,
      "outputs": [
        {
          "output_type": "stream",
          "name": "stdout",
          "text": [
            "<class 'pandas.core.frame.DataFrame'>\n",
            "RangeIndex: 816 entries, 0 to 815\n",
            "Data columns (total 4 columns):\n",
            " #   Column                 Non-Null Count  Dtype \n",
            "---  ------                 --------------  ----- \n",
            " 0   Estado                 816 non-null    object\n",
            " 1   Sexo                   816 non-null    object\n",
            " 2   Año                    816 non-null    int64 \n",
            " 3   Número de defunciones  816 non-null    object\n",
            "dtypes: int64(1), object(3)\n",
            "memory usage: 25.6+ KB\n"
          ]
        }
      ]
    },
    {
      "cell_type": "code",
      "source": [
        "def_totales.dropna(inplace = True)\n",
        "def_totales.dropna(subset=['Número de defunciones'])\n",
        "def_totales['Número de defunciones'] = def_totales['Número de defunciones'].str.replace(',', '')\n",
        "def_totales['Número de defunciones'] = def_totales['Número de defunciones'].astype('int64')\n",
        "def_totales.info()"
      ],
      "metadata": {
        "colab": {
          "base_uri": "https://localhost:8080/"
        },
        "id": "LUieCd-h2g41",
        "outputId": "94a3cb68-38ae-41fc-9f55-4c1a1e9648f6"
      },
      "execution_count": 343,
      "outputs": [
        {
          "output_type": "stream",
          "name": "stdout",
          "text": [
            "<class 'pandas.core.frame.DataFrame'>\n",
            "RangeIndex: 816 entries, 0 to 815\n",
            "Data columns (total 4 columns):\n",
            " #   Column                 Non-Null Count  Dtype \n",
            "---  ------                 --------------  ----- \n",
            " 0   Estado                 816 non-null    object\n",
            " 1   Sexo                   816 non-null    object\n",
            " 2   Año                    816 non-null    int64 \n",
            " 3   Número de defunciones  816 non-null    int64 \n",
            "dtypes: int64(2), object(2)\n",
            "memory usage: 25.6+ KB\n"
          ]
        }
      ]
    },
    {
      "cell_type": "code",
      "source": [
        "# Debemos eliminar valores que no sean estados de la columna 'Estado' por lo\n",
        "# que vamos a comprobar los valores que existan en esta columna.\n",
        "print(def_totales['Estado'].unique())\n",
        "\n",
        "# Los valores 'Extranjero' y 'No especificado' no aportan nada relevante para \n",
        "# nuestro análisis por lo que se determino que pueden removerse.\n",
        "# data['Estado'] = data['Estado'].str.replace('Extranjero','No especificado', regex = False)\n",
        "def_totales = def_totales.drop(def_totales[def_totales['Estado'] == 'Extranjero'].index)\n",
        "def_totales = def_totales.drop(def_totales[def_totales['Estado'] == 'No especificado'].index)\n",
        "\n",
        "# Comprobamos resultados finales.\n",
        "print(def_totales['Estado'].unique())"
      ],
      "metadata": {
        "colab": {
          "base_uri": "https://localhost:8080/"
        },
        "id": "BDdZ35Mc3VtX",
        "outputId": "28e41c59-8ce6-4687-b349-988877503cc0"
      },
      "execution_count": 344,
      "outputs": [
        {
          "output_type": "stream",
          "name": "stdout",
          "text": [
            "['Aguascalientes' 'Baja California' 'Baja California Sur' 'Campeche'\n",
            " 'Coahuila de Zaragoza' 'Colima' 'Chiapas' 'Chihuahua' 'Ciudad de México'\n",
            " 'Durango' 'Guanajuato' 'Guerrero' 'Hidalgo' 'Jalisco' 'México'\n",
            " 'Michoacán de Ocampo' 'Morelos' 'Nayarit' 'Nuevo León' 'Oaxaca' 'Puebla'\n",
            " 'Querétaro' 'Quintana Roo' 'San Luis Potosí' 'Sinaloa' 'Sonora' 'Tabasco'\n",
            " 'Tamaulipas' 'Tlaxcala' 'Veracruz de Ignacio de la Llave' 'Yucatán'\n",
            " 'Zacatecas' 'Extranjero' 'No especificado']\n",
            "['Aguascalientes' 'Baja California' 'Baja California Sur' 'Campeche'\n",
            " 'Coahuila de Zaragoza' 'Colima' 'Chiapas' 'Chihuahua' 'Ciudad de México'\n",
            " 'Durango' 'Guanajuato' 'Guerrero' 'Hidalgo' 'Jalisco' 'México'\n",
            " 'Michoacán de Ocampo' 'Morelos' 'Nayarit' 'Nuevo León' 'Oaxaca' 'Puebla'\n",
            " 'Querétaro' 'Quintana Roo' 'San Luis Potosí' 'Sinaloa' 'Sonora' 'Tabasco'\n",
            " 'Tamaulipas' 'Tlaxcala' 'Veracruz de Ignacio de la Llave' 'Yucatán'\n",
            " 'Zacatecas']\n"
          ]
        }
      ]
    },
    {
      "cell_type": "code",
      "source": [
        "# Se cambiaron los siguientes nombres de estados.\n",
        "# Coahuila de Zaragoza -> Coahuila\n",
        "def_totales['Estado'] = def_totales['Estado'].str.replace('Coahuila de Zaragoza','Coahuila', regex = False)\n",
        "# México -> Estado de México\n",
        "# data['Estado'] = data['Estado'].str.replace('México','Estado de México', regex = False)\n",
        "# Michoacan de Ocampo -> Michoacan\n",
        "def_totales['Estado'] = def_totales['Estado'].str.replace('Michoacán de Ocampo','Michoácan', regex = False)\n",
        "# Veracruz de Ignacio de la Llave -> Veracruz\n",
        "def_totales['Estado'] = def_totales['Estado'].str.replace('Veracruz de Ignacio de la Llave','Veracruz', regex = False)\n",
        "\n",
        "print(def_totales['Estado'].unique())"
      ],
      "metadata": {
        "colab": {
          "base_uri": "https://localhost:8080/"
        },
        "id": "4qw2ILwa48o8",
        "outputId": "f75bd4a4-432c-4b02-f6ce-cc845dd00bb8"
      },
      "execution_count": 345,
      "outputs": [
        {
          "output_type": "stream",
          "name": "stdout",
          "text": [
            "['Aguascalientes' 'Baja California' 'Baja California Sur' 'Campeche'\n",
            " 'Coahuila' 'Colima' 'Chiapas' 'Chihuahua' 'Ciudad de México' 'Durango'\n",
            " 'Guanajuato' 'Guerrero' 'Hidalgo' 'Jalisco' 'México' 'Michoácan'\n",
            " 'Morelos' 'Nayarit' 'Nuevo León' 'Oaxaca' 'Puebla' 'Querétaro'\n",
            " 'Quintana Roo' 'San Luis Potosí' 'Sinaloa' 'Sonora' 'Tabasco'\n",
            " 'Tamaulipas' 'Tlaxcala' 'Veracruz' 'Yucatán' 'Zacatecas']\n"
          ]
        }
      ]
    },
    {
      "cell_type": "code",
      "source": [
        "# Se cambiaron los siguientes nombres de sexos.\n",
        "# Hombres -> Hombre\n",
        "def_totales['Sexo'] = def_totales['Sexo'].str.replace('Hombres','Hombre', regex = False)\n",
        "# Mujeres -> Mujer\n",
        "def_totales['Sexo'] = def_totales['Sexo'].str.replace('Mujeres','Mujer', regex = False)\n",
        "print(def_totales['Sexo'].unique())"
      ],
      "metadata": {
        "colab": {
          "base_uri": "https://localhost:8080/"
        },
        "id": "H6UrGA9B72Mt",
        "outputId": "c4aa4b70-8c21-40e6-b7ff-58d16719c737"
      },
      "execution_count": 355,
      "outputs": [
        {
          "output_type": "stream",
          "name": "stdout",
          "text": [
            "['Hombre' 'Mujer']\n"
          ]
        }
      ]
    },
    {
      "cell_type": "code",
      "source": [
        "print(def_totales['Año'].unique())"
      ],
      "metadata": {
        "colab": {
          "base_uri": "https://localhost:8080/"
        },
        "id": "WOLRA0Dn8-iV",
        "outputId": "f83eda69-e9da-4fc0-8571-6b554d0ff7e2"
      },
      "execution_count": 364,
      "outputs": [
        {
          "output_type": "stream",
          "name": "stdout",
          "text": [
            "[2010 2011 2012 2013 2014 2015 2016 2017 2018 2019 2020 2021]\n"
          ]
        }
      ]
    },
    {
      "cell_type": "code",
      "source": [],
      "metadata": {
        "id": "GJAEcJKh8-fa"
      },
      "execution_count": null,
      "outputs": []
    },
    {
      "cell_type": "markdown",
      "source": [
        "Exportación en caso de ser requerida para vizualización."
      ],
      "metadata": {
        "id": "MfhueMAO5m3S"
      }
    },
    {
      "cell_type": "code",
      "source": [
        "ruta = '/content/drive/MyDrive/Work/diabetes_mexico/data/def_totales_clean.csv'\n",
        "def_totales.to_csv(ruta)"
      ],
      "metadata": {
        "id": "P0lRIERc5m3S"
      },
      "execution_count": 347,
      "outputs": []
    },
    {
      "cell_type": "markdown",
      "source": [
        "## Exploración de datos"
      ],
      "metadata": {
        "id": "mgRM8QX5k88a"
      }
    },
    {
      "cell_type": "markdown",
      "source": [
        "La pregunta que debemos reponder es: ¿Cuántos hombres y mujeres de edades entre 30 y 59 años fallecieron a causa de la diabetes en cada estado de la Republica Mexicana en 2010 y 2021?\n",
        "\n",
        "Con base en esto, se estimará una proyección hacia 2022"
      ],
      "metadata": {
        "id": "gZyUVj9uqo1P"
      }
    },
    {
      "cell_type": "code",
      "source": [
        "plt.plot(data['Estado'], data['Numero de defunciones'], 'o')\n",
        "plt.xlabel('Estados')\n",
        "plt.ylabel('Defunciones')\n",
        "plt.title('Defunciones por estado')\n",
        "plt.show()"
      ],
      "metadata": {
        "colab": {
          "base_uri": "https://localhost:8080/",
          "height": 472
        },
        "id": "Rhy7BejKlAEc",
        "outputId": "2bd00669-0544-45b2-c7a1-ec25ef8750ea"
      },
      "execution_count": 348,
      "outputs": [
        {
          "output_type": "display_data",
          "data": {
            "text/plain": [
              "<Figure size 640x480 with 1 Axes>"
            ],
            "image/png": "[encoded data removed]"
          },
          "metadata": {}
        }
      ]
    },
    {
      "cell_type": "code",
      "source": [
        "from matplotlib._api import define_aliases\n",
        "# Bucle para revisar todos los estados.\n",
        "\n",
        "estados = data['Estado'].unique()\n",
        "sexos = data['Sexo'].unique()\n",
        "años = [data['Año'].unique()[0],data['Año'].unique()[-1]]\n",
        "\n",
        "\n",
        "\n",
        "for estado in estados:\n",
        "  print('\\n',estado)\n",
        "  for sexo in sexos:\n",
        "    print('\\n',sexo)\n",
        "    for año in años:\n",
        "      estado_sexo_año = data[(data['Estado'] == estado) & (data['Sexo'] == sexo) & (data['Rango de edad'] > 25) & (data['Rango de edad'] < 60) & (data['Año'] == año)]\n",
        "      d_estado_sexo_año = def_totales[(def_totales['Estado'] == estado) & (def_totales['Sexo'] ==sexo) & (def_totales['Año'] == año)]\n",
        "      d = int(d_estado_sexo_año['Número de defunciones'].unique())\n",
        "\n",
        "      sum_def = estado_sexo_año['Numero de defunciones'].sum()\n",
        "      print('Defunciones en ',año,': ',sum_def,' por diabetes')\n",
        "      print('Defunciones en ',año,': ',d,'totales')\n",
        "      \n"
      ],
      "metadata": {
        "colab": {
          "base_uri": "https://localhost:8080/"
        },
        "id": "SFhBLh7FxZf3",
        "outputId": "cc4977d0-6621-4951-cc0a-94ad782b8910"
      },
      "execution_count": 379,
      "outputs": [
        {
          "output_type": "stream",
          "name": "stdout",
          "text": [
            "\n",
            " Aguascalientes\n",
            "\n",
            " Hombre\n",
            "Defunciones en  2010 :  109  por diabetes\n",
            "Defunciones en  2010 :  2721 totales\n",
            "Defunciones en  2021 :  126  por diabetes\n",
            "Defunciones en  2021 :  5457 totales\n",
            "\n",
            " Mujer\n",
            "Defunciones en  2010 :  92  por diabetes\n",
            "Defunciones en  2010 :  2449 totales\n",
            "Defunciones en  2021 :  73  por diabetes\n",
            "Defunciones en  2021 :  4255 totales\n",
            "\n",
            " Baja California\n",
            "\n",
            " Hombre\n",
            "Defunciones en  2010 :  306  por diabetes\n",
            "Defunciones en  2010 :  9561 totales\n",
            "Defunciones en  2021 :  509  por diabetes\n",
            "Defunciones en  2021 :  17937 totales\n",
            "\n",
            " Mujer\n",
            "Defunciones en  2010 :  204  por diabetes\n",
            "Defunciones en  2010 :  5822 totales\n",
            "Defunciones en  2021 :  276  por diabetes\n",
            "Defunciones en  2021 :  10655 totales\n",
            "\n",
            " Baja California Sur\n",
            "\n",
            " Hombre\n",
            "Defunciones en  2010 :  50  por diabetes\n",
            "Defunciones en  2010 :  1478 totales\n",
            "Defunciones en  2021 :  61  por diabetes\n",
            "Defunciones en  2021 :  3605 totales\n",
            "\n",
            " Mujer\n",
            "Defunciones en  2010 :  26  por diabetes\n",
            "Defunciones en  2010 :  954 totales\n",
            "Defunciones en  2021 :  52  por diabetes\n",
            "Defunciones en  2021 :  2320 totales\n",
            "\n",
            " Campeche\n",
            "\n",
            " Hombre\n",
            "Defunciones en  2010 :  69  por diabetes\n",
            "Defunciones en  2010 :  2231 totales\n",
            "Defunciones en  2021 :  110  por diabetes\n",
            "Defunciones en  2021 :  4280 totales\n",
            "\n",
            " Mujer\n",
            "Defunciones en  2010 :  59  por diabetes\n",
            "Defunciones en  2010 :  1587 totales\n",
            "Defunciones en  2021 :  142  por diabetes\n",
            "Defunciones en  2021 :  3225 totales\n",
            "\n",
            " Coahuila\n",
            "\n",
            " Hombre\n",
            "Defunciones en  2010 :  302  por diabetes\n",
            "Defunciones en  2010 :  8159 totales\n",
            "Defunciones en  2021 :  415  por diabetes\n",
            "Defunciones en  2021 :  13362 totales\n",
            "\n",
            " Mujer\n",
            "Defunciones en  2010 :  286  por diabetes\n",
            "Defunciones en  2010 :  6432 totales\n",
            "Defunciones en  2021 :  389  por diabetes\n",
            "Defunciones en  2021 :  10447 totales\n",
            "\n",
            " Colima\n",
            "\n",
            " Hombre\n",
            "Defunciones en  2010 :  60  por diabetes\n",
            "Defunciones en  2010 :  1888 totales\n",
            "Defunciones en  2021 :  90  por diabetes\n",
            "Defunciones en  2021 :  4271 totales\n",
            "\n",
            " Mujer\n",
            "Defunciones en  2010 :  42  por diabetes\n",
            "Defunciones en  2010 :  1334 totales\n",
            "Defunciones en  2021 :  65  por diabetes\n",
            "Defunciones en  2021 :  2849 totales\n",
            "\n",
            " Chiapas\n",
            "\n",
            " Hombre\n",
            "Defunciones en  2010 :  334  por diabetes\n",
            "Defunciones en  2010 :  12088 totales\n",
            "Defunciones en  2021 :  902  por diabetes\n",
            "Defunciones en  2021 :  22329 totales\n",
            "\n",
            " Mujer\n",
            "Defunciones en  2010 :  382  por diabetes\n",
            "Defunciones en  2010 :  9631 totales\n",
            "Defunciones en  2021 :  964  por diabetes\n",
            "Defunciones en  2021 :  17532 totales\n",
            "\n",
            " Chihuahua\n",
            "\n",
            " Hombre\n",
            "Defunciones en  2010 :  321  por diabetes\n",
            "Defunciones en  2010 :  16861 totales\n",
            "Defunciones en  2021 :  359  por diabetes\n",
            "Defunciones en  2021 :  18592 totales\n",
            "\n",
            " Mujer\n",
            "Defunciones en  2010 :  279  por diabetes\n",
            "Defunciones en  2010 :  8898 totales\n",
            "Defunciones en  2021 :  322  por diabetes\n",
            "Defunciones en  2021 :  13110 totales\n",
            "\n",
            " Ciudad de México\n",
            "\n",
            " Hombre\n",
            "Defunciones en  2010 :  1328  por diabetes\n",
            "Defunciones en  2010 :  28098 totales\n",
            "Defunciones en  2021 :  1657  por diabetes\n",
            "Defunciones en  2021 :  55694 totales\n",
            "\n",
            " Mujer\n",
            "Defunciones en  2010 :  877  por diabetes\n",
            "Defunciones en  2010 :  26998 totales\n",
            "Defunciones en  2021 :  872  por diabetes\n",
            "Defunciones en  2021 :  44664 totales\n",
            "\n",
            " Durango\n",
            "\n",
            " Hombre\n",
            "Defunciones en  2010 :  110  por diabetes\n",
            "Defunciones en  2010 :  5563 totales\n",
            "Defunciones en  2021 :  185  por diabetes\n",
            "Defunciones en  2021 :  7696 totales\n",
            "\n",
            " Mujer\n",
            "Defunciones en  2010 :  139  por diabetes\n",
            "Defunciones en  2010 :  3644 totales\n",
            "Defunciones en  2021 :  144  por diabetes\n",
            "Defunciones en  2021 :  6051 totales\n",
            "\n",
            " Guanajuato\n",
            "\n",
            " Hombre\n",
            "Defunciones en  2010 :  577  por diabetes\n",
            "Defunciones en  2010 :  14706 totales\n",
            "Defunciones en  2021 :  989  por diabetes\n",
            "Defunciones en  2021 :  32593 totales\n",
            "\n",
            " Mujer\n",
            "Defunciones en  2010 :  459  por diabetes\n",
            "Defunciones en  2010 :  12416 totales\n",
            "Defunciones en  2021 :  771  por diabetes\n",
            "Defunciones en  2021 :  23707 totales\n",
            "\n",
            " Guerrero\n",
            "\n",
            " Hombre\n",
            "Defunciones en  2010 :  296  por diabetes\n",
            "Defunciones en  2010 :  9587 totales\n",
            "Defunciones en  2021 :  545  por diabetes\n",
            "Defunciones en  2021 :  16375 totales\n",
            "\n",
            " Mujer\n",
            "Defunciones en  2010 :  262  por diabetes\n",
            "Defunciones en  2010 :  6865 totales\n",
            "Defunciones en  2021 :  426  por diabetes\n",
            "Defunciones en  2021 :  11798 totales\n",
            "\n",
            " Hidalgo\n",
            "\n",
            " Hombre\n",
            "Defunciones en  2010 :  275  por diabetes\n",
            "Defunciones en  2010 :  7149 totales\n",
            "Defunciones en  2021 :  457  por diabetes\n",
            "Defunciones en  2021 :  14557 totales\n",
            "\n",
            " Mujer\n",
            "Defunciones en  2010 :  208  por diabetes\n",
            "Defunciones en  2010 :  5839 totales\n",
            "Defunciones en  2021 :  308  por diabetes\n",
            "Defunciones en  2021 :  10548 totales\n",
            "\n",
            " Jalisco\n",
            "\n",
            " Hombre\n",
            "Defunciones en  2010 :  664  por diabetes\n",
            "Defunciones en  2010 :  21675 totales\n",
            "Defunciones en  2021 :  850  por diabetes\n",
            "Defunciones en  2021 :  43191 totales\n",
            "\n",
            " Mujer\n",
            "Defunciones en  2010 :  486  por diabetes\n",
            "Defunciones en  2010 :  17497 totales\n",
            "Defunciones en  2021 :  609  por diabetes\n",
            "Defunciones en  2021 :  31432 totales\n",
            "\n",
            " México\n",
            "\n",
            " Hombre\n",
            "Defunciones en  2010 :  1876  por diabetes\n",
            "Defunciones en  2010 :  37513 totales\n",
            "Defunciones en  2021 :  4060  por diabetes\n",
            "Defunciones en  2021 :  88133 totales\n",
            "\n",
            " Mujer\n",
            "Defunciones en  2010 :  1424  por diabetes\n",
            "Defunciones en  2010 :  30747 totales\n",
            "Defunciones en  2021 :  2547  por diabetes\n",
            "Defunciones en  2021 :  63950 totales\n",
            "\n",
            " Michoácan\n",
            "\n",
            " Hombre\n",
            "Defunciones en  2010 :  402  por diabetes\n",
            "Defunciones en  2010 :  13533 totales\n",
            "Defunciones en  2021 :  793  por diabetes\n",
            "Defunciones en  2021 :  27354 totales\n",
            "\n",
            " Mujer\n",
            "Defunciones en  2010 :  329  por diabetes\n",
            "Defunciones en  2010 :  10617 totales\n",
            "Defunciones en  2021 :  590  por diabetes\n",
            "Defunciones en  2021 :  19516 totales\n",
            "\n",
            " Morelos\n",
            "\n",
            " Hombre\n",
            "Defunciones en  2010 :  199  por diabetes\n",
            "Defunciones en  2010 :  5319 totales\n",
            "Defunciones en  2021 :  391  por diabetes\n",
            "Defunciones en  2021 :  13152 totales\n",
            "\n",
            " Mujer\n",
            "Defunciones en  2010 :  174  por diabetes\n",
            "Defunciones en  2010 :  4442 totales\n",
            "Defunciones en  2021 :  282  por diabetes\n",
            "Defunciones en  2021 :  9071 totales\n",
            "\n",
            " Nayarit\n",
            "\n",
            " Hombre\n",
            "Defunciones en  2010 :  60  por diabetes\n",
            "Defunciones en  2010 :  3536 totales\n",
            "Defunciones en  2021 :  93  por diabetes\n",
            "Defunciones en  2021 :  6038 totales\n",
            "\n",
            " Mujer\n",
            "Defunciones en  2010 :  62  por diabetes\n",
            "Defunciones en  2010 :  2399 totales\n",
            "Defunciones en  2021 :  70  por diabetes\n",
            "Defunciones en  2021 :  4258 totales\n",
            "\n",
            " Nuevo León\n",
            "\n",
            " Hombre\n",
            "Defunciones en  2010 :  428  por diabetes\n",
            "Defunciones en  2010 :  13288 totales\n",
            "Defunciones en  2021 :  625  por diabetes\n",
            "Defunciones en  2021 :  26139 totales\n",
            "\n",
            " Mujer\n",
            "Defunciones en  2010 :  313  por diabetes\n",
            "Defunciones en  2010 :  9792 totales\n",
            "Defunciones en  2021 :  495  por diabetes\n",
            "Defunciones en  2021 :  19083 totales\n",
            "\n",
            " Oaxaca\n",
            "\n",
            " Hombre\n",
            "Defunciones en  2010 :  343  por diabetes\n",
            "Defunciones en  2010 :  11846 totales\n",
            "Defunciones en  2021 :  798  por diabetes\n",
            "Defunciones en  2021 :  22511 totales\n",
            "\n",
            " Mujer\n",
            "Defunciones en  2010 :  322  por diabetes\n",
            "Defunciones en  2010 :  9875 totales\n",
            "Defunciones en  2021 :  721  por diabetes\n",
            "Defunciones en  2021 :  17740 totales\n",
            "\n",
            " Puebla\n",
            "\n",
            " Hombre\n",
            "Defunciones en  2010 :  667  por diabetes\n",
            "Defunciones en  2010 :  16432 totales\n",
            "Defunciones en  2021 :  1668  por diabetes\n",
            "Defunciones en  2021 :  36958 totales\n",
            "\n",
            " Mujer\n",
            "Defunciones en  2010 :  560  por diabetes\n",
            "Defunciones en  2010 :  14583 totales\n",
            "Defunciones en  2021 :  1220  por diabetes\n",
            "Defunciones en  2021 :  28970 totales\n",
            "\n",
            " Querétaro\n",
            "\n",
            " Hombre\n",
            "Defunciones en  2010 :  162  por diabetes\n",
            "Defunciones en  2010 :  4384 totales\n",
            "Defunciones en  2021 :  311  por diabetes\n",
            "Defunciones en  2021 :  10387 totales\n",
            "\n",
            " Mujer\n",
            "Defunciones en  2010 :  144  por diabetes\n",
            "Defunciones en  2010 :  3577 totales\n",
            "Defunciones en  2021 :  205  por diabetes\n",
            "Defunciones en  2021 :  7611 totales\n",
            "\n",
            " Quintana Roo\n",
            "\n",
            " Hombre\n",
            "Defunciones en  2010 :  118  por diabetes\n",
            "Defunciones en  2010 :  2762 totales\n",
            "Defunciones en  2021 :  214  por diabetes\n",
            "Defunciones en  2021 :  6863 totales\n",
            "\n",
            " Mujer\n",
            "Defunciones en  2010 :  69  por diabetes\n",
            "Defunciones en  2010 :  1671 totales\n",
            "Defunciones en  2021 :  172  por diabetes\n",
            "Defunciones en  2021 :  4350 totales\n",
            "\n",
            " San Luis Potosí\n",
            "\n",
            " Hombre\n",
            "Defunciones en  2010 :  207  por diabetes\n",
            "Defunciones en  2010 :  7314 totales\n",
            "Defunciones en  2021 :  427  por diabetes\n",
            "Defunciones en  2021 :  14515 totales\n",
            "\n",
            " Mujer\n",
            "Defunciones en  2010 :  167  por diabetes\n",
            "Defunciones en  2010 :  5972 totales\n",
            "Defunciones en  2021 :  362  por diabetes\n",
            "Defunciones en  2021 :  10678 totales\n",
            "\n",
            " Sinaloa\n",
            "\n",
            " Hombre\n",
            "Defunciones en  2010 :  169  por diabetes\n",
            "Defunciones en  2010 :  9854 totales\n",
            "Defunciones en  2021 :  202  por diabetes\n",
            "Defunciones en  2021 :  13893 totales\n",
            "\n",
            " Mujer\n",
            "Defunciones en  2010 :  138  por diabetes\n",
            "Defunciones en  2010 :  5587 totales\n",
            "Defunciones en  2021 :  113  por diabetes\n",
            "Defunciones en  2021 :  9866 totales\n",
            "\n",
            " Sonora\n",
            "\n",
            " Hombre\n",
            "Defunciones en  2010 :  197  por diabetes\n",
            "Defunciones en  2010 :  8747 totales\n",
            "Defunciones en  2021 :  226  por diabetes\n",
            "Defunciones en  2021 :  15139 totales\n",
            "\n",
            " Mujer\n",
            "Defunciones en  2010 :  177  por diabetes\n",
            "Defunciones en  2010 :  6157 totales\n",
            "Defunciones en  2021 :  170  por diabetes\n",
            "Defunciones en  2021 :  10105 totales\n",
            "\n",
            " Tabasco\n",
            "\n",
            " Hombre\n",
            "Defunciones en  2010 :  266  por diabetes\n",
            "Defunciones en  2010 :  6557 totales\n",
            "Defunciones en  2021 :  496  por diabetes\n",
            "Defunciones en  2021 :  10874 totales\n",
            "\n",
            " Mujer\n",
            "Defunciones en  2010 :  255  por diabetes\n",
            "Defunciones en  2010 :  4594 totales\n",
            "Defunciones en  2021 :  458  por diabetes\n",
            "Defunciones en  2021 :  8315 totales\n",
            "\n",
            " Tamaulipas\n",
            "\n",
            " Hombre\n",
            "Defunciones en  2010 :  347  por diabetes\n",
            "Defunciones en  2010 :  10079 totales\n",
            "Defunciones en  2021 :  547  por diabetes\n",
            "Defunciones en  2021 :  15173 totales\n",
            "\n",
            " Mujer\n",
            "Defunciones en  2010 :  271  por diabetes\n",
            "Defunciones en  2010 :  7109 totales\n",
            "Defunciones en  2021 :  409  por diabetes\n",
            "Defunciones en  2021 :  11483 totales\n",
            "\n",
            " Tlaxcala\n",
            "\n",
            " Hombre\n",
            "Defunciones en  2010 :  132  por diabetes\n",
            "Defunciones en  2010 :  2958 totales\n",
            "Defunciones en  2021 :  270  por diabetes\n",
            "Defunciones en  2021 :  7053 totales\n",
            "\n",
            " Mujer\n",
            "Defunciones en  2010 :  96  por diabetes\n",
            "Defunciones en  2010 :  2574 totales\n",
            "Defunciones en  2021 :  177  por diabetes\n",
            "Defunciones en  2021 :  5278 totales\n",
            "\n",
            " Veracruz\n",
            "\n",
            " Hombre\n",
            "Defunciones en  2010 :  930  por diabetes\n",
            "Defunciones en  2010 :  24669 totales\n",
            "Defunciones en  2021 :  1759  por diabetes\n",
            "Defunciones en  2021 :  43560 totales\n",
            "\n",
            " Mujer\n",
            "Defunciones en  2010 :  809  por diabetes\n",
            "Defunciones en  2010 :  20404 totales\n",
            "Defunciones en  2021 :  1468  por diabetes\n",
            "Defunciones en  2021 :  35489 totales\n",
            "\n",
            " Yucatán\n",
            "\n",
            " Hombre\n",
            "Defunciones en  2010 :  109  por diabetes\n",
            "Defunciones en  2010 :  6046 totales\n",
            "Defunciones en  2021 :  158  por diabetes\n",
            "Defunciones en  2021 :  10689 totales\n",
            "\n",
            " Mujer\n",
            "Defunciones en  2010 :  130  por diabetes\n",
            "Defunciones en  2010 :  5125 totales\n",
            "Defunciones en  2021 :  162  por diabetes\n",
            "Defunciones en  2021 :  8308 totales\n",
            "\n",
            " Zacatecas\n",
            "\n",
            " Hombre\n",
            "Defunciones en  2010 :  98  por diabetes\n",
            "Defunciones en  2010 :  4614 totales\n",
            "Defunciones en  2021 :  196  por diabetes\n",
            "Defunciones en  2021 :  8873 totales\n",
            "\n",
            " Mujer\n",
            "Defunciones en  2010 :  96  por diabetes\n",
            "Defunciones en  2010 :  3757 totales\n",
            "Defunciones en  2021 :  139  por diabetes\n",
            "Defunciones en  2021 :  6069 totales\n"
          ]
        }
      ]
    },
    {
      "cell_type": "code",
      "source": [
        "d = def_totales[(def_totales['Estado'] == 'Aguascalientes') & (def_totales['Sexo'] == 'Hombre') & (def_totales['Año'] == 2010)]\n",
        "#d = def_totales[def_totales['Año'] == 2010]\n",
        "d = int(d['Número de defunciones'].unique())\n",
        "print(d)"
      ],
      "metadata": {
        "colab": {
          "base_uri": "https://localhost:8080/"
        },
        "id": "bxFyhhau7UKF",
        "outputId": "25b1dd15-44e1-45b9-f610-6f3786db74f7"
      },
      "execution_count": 374,
      "outputs": [
        {
          "output_type": "stream",
          "name": "stdout",
          "text": [
            "2721\n"
          ]
        }
      ]
    }
  ]
}